{
  "nbformat": 4,
  "nbformat_minor": 0,
  "metadata": {
    "colab": {
      "name": "WEEK12",
      "provenance": [],
      "authorship_tag": "ABX9TyOqUweNH6wcq/oR5mnX2gts",
      "include_colab_link": true
    },
    "kernelspec": {
      "name": "python3",
      "display_name": "Python 3"
    }
  },
  "cells": [
    {
      "cell_type": "markdown",
      "metadata": {
        "id": "view-in-github",
        "colab_type": "text"
      },
      "source": [
        "<a href=\"https://colab.research.google.com/github/Ruie0829/computational-thinking/blob/master/WEEK12.ipynb\" target=\"_parent\"><img src=\"https://colab.research.google.com/assets/colab-badge.svg\" alt=\"Open In Colab\"/></a>"
      ]
    },
    {
      "cell_type": "code",
      "metadata": {
        "colab": {
          "base_uri": "https://localhost:8080/"
        },
        "id": "avcV2mL2f8BF",
        "outputId": "7229fb52-14c3-42df-f1b9-09056053e5f1"
      },
      "source": [
        "shopping_list = ['牛奶', '蛋', '咖啡豆', '西瓜', '鳳梨']\n",
        "print(shopping_list)"
      ],
      "execution_count": 1,
      "outputs": [
        {
          "output_type": "stream",
          "text": [
            "['牛奶', '蛋', '咖啡豆', '西瓜', '鳳梨']\n"
          ],
          "name": "stdout"
        }
      ]
    },
    {
      "cell_type": "code",
      "metadata": {
        "colab": {
          "base_uri": "https://localhost:8080/"
        },
        "id": "84sI5yFmkTRw",
        "outputId": "df3f5336-beb9-4106-9221-d1f2d19becf6"
      },
      "source": [
        "# NBA冠軍賽的六筆資訊\n",
        "season = \"1995-1996\"\n",
        "team = \"Chicago Bulls\"\n",
        "coach = \"Phil Jackson\"\n",
        "records = [72, 10]\n",
        "starting = [\"Ron Harper\", \"Michael Jordan\", \"Scottie Pippen\", \"Dennis Rodman\", \"Luc Longley\"]\n",
        "champion = True\n",
        "best_NBA = list((season, team, coach, starting,))\n",
        "print(best_NBA)"
      ],
      "execution_count": 2,
      "outputs": [
        {
          "output_type": "stream",
          "text": [
            "['1995-1996', 'Chicago Bulls', 'Phil Jackson', ['Ron Harper', 'Michael Jordan', 'Scottie Pippen', 'Dennis Rodman', 'Luc Longley']]\n"
          ],
          "name": "stdout"
        }
      ]
    },
    {
      "cell_type": "code",
      "metadata": {
        "colab": {
          "base_uri": "https://localhost:8080/"
        },
        "id": "5mFtTbEinBmb",
        "outputId": "b34702f6-8dc1-4ad5-a3a2-b8dd4a2caa23"
      },
      "source": [
        "#[0,1,2,3,4,5,6,7,8,9]\n",
        "a=range(0, 10 ,1)\n",
        "print(a[0],a[1],a[2],a[3],a[4],a[5],a[6],a[7],a[8],a[9])\n",
        "#[0,2,4,6,8,]\n",
        "b=range(0,9,2)\n",
        "print(b[0],b[1],b[2],b[3],b[4])\n",
        "#[5,7,9]\n",
        "c=range(5,10,2)\n",
        "print(c[0],c[1],c[2])\n",
        "#[0,-1,-2,-3,-4,-5,-6,-7,-8,-9]\n",
        "d=range(0,-10,-1)\n",
        "print(d[0],d[1],d[2],d[3],d[4],d[5],d[6],d[7],d[8],d[9])"
      ],
      "execution_count": 28,
      "outputs": [
        {
          "output_type": "stream",
          "text": [
            "0 1 2 3 4 5 6 7 8 9\n",
            "0 2 4 6 8\n",
            "5 7 9\n",
            "0 -1 -2 -3 -4 -5 -6 -7 -8 -9\n"
          ],
          "name": "stdout"
        }
      ]
    }
  ]
}