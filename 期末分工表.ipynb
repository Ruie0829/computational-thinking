{
  "nbformat": 4,
  "nbformat_minor": 0,
  "metadata": {
    "colab": {
      "name": "腳本",
      "provenance": [],
      "authorship_tag": "ABX9TyP2XWnPdj5GSEqDlFjxO1I2",
      "include_colab_link": true
    },
    "kernelspec": {
      "name": "python3",
      "display_name": "Python 3"
    }
  },
  "cells": [
    {
      "cell_type": "markdown",
      "metadata": {
        "id": "view-in-github",
        "colab_type": "text"
      },
      "source": [
        "<a href=\"https://colab.research.google.com/github/Ruie0829/computational-thinking/blob/master/%E6%9C%9F%E6%9C%AB%E5%88%86%E5%B7%A5%E8%A1%A8.ipynb\" target=\"_parent\"><img src=\"https://colab.research.google.com/assets/colab-badge.svg\" alt=\"Open In Colab\"/></a>"
      ]
    },
    {
      "cell_type": "code",
      "metadata": {
        "id": "Yqr26CnMCg0t"
      },
      "source": [
        "project_title = 'chatbox'\r\n",
        "name_list = ['呂昕靜', '林秉睿', '黃珮筑', '簡佑竹', '蔡宜玲', '王柏智']\r\n",
        "number_list = ['A109260007', 'A109260017', 'A109260043', 'A109260057', 'A109260071', 'A109260099'] \r\n",
        "duty_list = ['與使用者打招呼與心情話題', '成績表格', '興趣與年紀話題', '興趣介紹', '食物與動物話題', '猜數字遊戲', '功課話題與道別']\r\n",
        "load_list = ['17%', '17%', '16%', '16%', '17%', '17%']\r\n",
        "\r\n",
        "name = name_list[5:6]\r\n",
        "school_number = number_list[5:6]\r\n",
        "duty = duty_list[0:1]\r\n",
        "load = load_list[0:1]\r\n",
        "\r\n",
        "team_leader = list((name, school_number, duty, load))\r\n",
        "\r\n",
        "print('組長為', team_leader)\r\n",
        "\r\n",
        "組長為 [['王柏智'], ['A109260099'], ['與使用者打招呼與心情話題'], ['17%']]\r\n",
        "附件區域\r\n"
      ],
      "execution_count": null,
      "outputs": []
    }
  ]
}