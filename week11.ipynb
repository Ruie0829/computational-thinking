{
  "nbformat": 4,
  "nbformat_minor": 0,
  "metadata": {
    "colab": {
      "name": "Untitled5.ipynb",
      "provenance": [],
      "authorship_tag": "ABX9TyMwZ0fFAFWJ6WHy57pmTS4w",
      "include_colab_link": true
    },
    "kernelspec": {
      "name": "python3",
      "display_name": "Python 3"
    }
  },
  "cells": [
    {
      "cell_type": "markdown",
      "metadata": {
        "id": "view-in-github",
        "colab_type": "text"
      },
      "source": [
        "<a href=\"https://colab.research.google.com/github/Ruie0829/computational-thinking/blob/master/week11.ipynb\" target=\"_parent\"><img src=\"https://colab.research.google.com/assets/colab-badge.svg\" alt=\"Open In Colab\"/></a>"
      ]
    },
    {
      "cell_type": "code",
      "metadata": {
        "colab": {
          "base_uri": "https://localhost:8080/"
        },
        "id": "5H2LQvaorujp",
        "outputId": "ed57f096-12f2-437a-e40a-f0eb4c7ffcd5"
      },
      "source": [
        "# chatbot introdution\n",
        "print('Hello. I am Zyxo 64 . I am a chatbot')\n",
        "print('I like animals and I love to talk about food')\n",
        "name = input('what is your name?;')\n",
        "print('Hello',name, ',Nice to meet you')"
      ],
      "execution_count": 1,
      "outputs": [
        {
          "output_type": "stream",
          "text": [
            "Hello. I am Zyxo 64 . I am a chatbot\n",
            "I like animals and I love to talk about food\n",
            "what is your name?;hello\n",
            "Hello hello ,Nice to meet you\n"
          ],
          "name": "stdout"
        }
      ]
    },
    {
      "cell_type": "code",
      "metadata": {
        "colab": {
          "base_uri": "https://localhost:8080/"
        },
        "id": "u1AwwGXnr-WH",
        "outputId": "27445592-4ff3-4b30-8e75-2bb72d345136"
      },
      "source": [
        "# get your information\n",
        "year = input('I am not very good at dates. What \\\n",
        " is the year?: ')\n",
        "print('Yes, I think that is correct. Thanks! ')"
      ],
      "execution_count": 2,
      "outputs": [
        {
          "output_type": "stream",
          "text": [
            "I am not very good at dates. What  is the year?: 34\n",
            "Yes, I think that is correct. Thanks! \n"
          ],
          "name": "stdout"
        }
      ]
    },
    {
      "cell_type": "code",
      "metadata": {
        "colab": {
          "base_uri": "https://localhost:8080/",
          "height": 131
        },
        "id": "bB2daRSGsoGg",
        "outputId": "a69f1e59-b4f8-42e6-8329-6fdf72b33b3b"
      },
      "source": [
        "# do math to calculate when chatbot will be 100\n",
        "myage = int(myage)\n",
        "nyeaes = 100 - myage\n",
        "print('I will be 100 in', nyears, 'years')\n",
        "print('that will be the year', int(year) + \\nyears)"
      ],
      "execution_count": 14,
      "outputs": [
        {
          "output_type": "error",
          "ename": "SyntaxError",
          "evalue": "ignored",
          "traceback": [
            "\u001b[0;36m  File \u001b[0;32m\"<ipython-input-14-822f961bed48>\"\u001b[0;36m, line \u001b[0;32m5\u001b[0m\n\u001b[0;31m    print('that will be the year', int(year) + \\nyears)\u001b[0m\n\u001b[0m                                                       ^\u001b[0m\n\u001b[0;31mSyntaxError\u001b[0m\u001b[0;31m:\u001b[0m unexpected character after line continuation character\n"
          ]
        }
      ]
    },
    {
      "cell_type": "code",
      "metadata": {
        "colab": {
          "base_uri": "https://localhost:8080/"
        },
        "id": "wkCUTkLtuPt4",
        "outputId": "6c47101a-165c-4838-ce8a-6471d05b304f"
      },
      "source": [
        "# food conversation\n",
        "print('I love chocolate and I also like trying out new kinds of food')\n",
        "food=input('How about you?What is your favorite food:')\n",
        "print('I like',food,'too.')\n",
        "question='How often do you eat'+food+'?:'\n",
        "howoften=input(question)\n",
        "print('interesting.I wonder if that is goodfor your health')"
      ],
      "execution_count": 15,
      "outputs": [
        {
          "output_type": "stream",
          "text": [
            "I love chocolate and I also like trying out new kinds of food\n",
            "How about you?What is your favorite food:12\n",
            "I like 12 too.\n",
            "How often do you eat12?:12\n",
            "interesting.I wonder if that is goodfor your health\n"
          ],
          "name": "stdout"
        }
      ]
    },
    {
      "cell_type": "code",
      "metadata": {
        "colab": {
          "base_uri": "https://localhost:8080/"
        },
        "id": "OY8MRx5IulDO",
        "outputId": "24fa9a1c-8256-4016-fd34-81217eb239c9"
      },
      "source": [
        "# conversation about feelings\n",
        "feeling = input('how are you feelings today?: ')\n",
        "print('why are you feeling', feeling, 'now?')\n",
        "reason = input('please tell me: ')\n",
        "print('i understand. thanks for sharing')"
      ],
      "execution_count": 16,
      "outputs": [
        {
          "output_type": "stream",
          "text": [
            "how are you feelings today?: 12\n",
            "why are you feeling 12 now?\n",
            "please tell me: 12\n",
            "i understand. thanks for sharing\n"
          ],
          "name": "stdout"
        }
      ]
    },
    {
      "cell_type": "code",
      "metadata": {
        "colab": {
          "base_uri": "https://localhost:8080/"
        },
        "id": "7nxnVbMOuz3a",
        "outputId": "b54d0473-f0d5-490e-e5e6-f181ff3587c5"
      },
      "source": [
        "# goodbye\n",
        "print('It has been a long day')\n",
        "print('I am too tried to talk.We can chat again later')\n",
        "print('Goodbye',name,'I liked chatting with you')"
      ],
      "execution_count": 17,
      "outputs": [
        {
          "output_type": "stream",
          "text": [
            "It has been a long day\n",
            "I am too tried to talk.We can chat again later\n",
            "Goodbye hello I liked chatting with you\n"
          ],
          "name": "stdout"
        }
      ]
    },
    {
      "cell_type": "code",
      "metadata": {
        "colab": {
          "base_uri": "https://localhost:8080/"
        },
        "id": "vk3et-9YvI3s",
        "outputId": "32de0b43-4a6c-4f92-d916-740fbf339b18"
      },
      "source": [
        "# animal conversation\n",
        "animal = input('My favorite animal is a giraffe. What is yours?:')\n",
        "print(animal,'! I do not like them.')\n",
        "print('I wonder if a', animal, 'like to eat', food ,'?')"
      ],
      "execution_count": 18,
      "outputs": [
        {
          "output_type": "stream",
          "text": [
            "My favorite animal is a giraffe. What is yours?:12\n",
            "12 ! I do not like them.\n",
            "I wonder if a 12 like to eat 12 ?\n"
          ],
          "name": "stdout"
        }
      ]
    }
  ]
}